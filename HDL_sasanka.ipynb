{
 "cells": [
  {
   "cell_type": "markdown",
   "id": "389e3738",
   "metadata": {
    "tags": []
   },
   "source": [
    "# Hydrogen depassivation lithography"
   ]
  },
  {
   "cell_type": "code",
   "execution_count": 46,
   "id": "271a216d",
   "metadata": {},
   "outputs": [],
   "source": [
    "using LinearAlgebra\n",
    "using SparseArrays\n",
    "using DifferentialEquations\n",
    "using PyCall"
   ]
  },
  {
   "cell_type": "code",
   "execution_count": 2,
   "id": "44f52341-a905-4740-8bbb-bb4ed7a83074",
   "metadata": {},
   "outputs": [],
   "source": [
    "#= Planck's constant.=#\n",
    "hbar = 1.054*10^(-34);\n",
    "#= Mass of an electron.=#\n",
    "m_e = 9.11*10^(-31);\n"
   ]
  },
  {
   "cell_type": "code",
   "execution_count": 3,
   "id": "c35eeb7e-7c4d-41ec-a191-3f6af33278f5",
   "metadata": {},
   "outputs": [],
   "source": [
    "#= Silicon hydrogen NN interaction.=#\n",
    "C_1 = 0.1*1.6*10^(-19);\n",
    "U_Si_H(x) = C_1/x;\n",
    "d_U_Si_H(x) = -C_1/x^2; #=Derivative.=#\n",
    "\n",
    "#=Hopping between silicon atom and the hydrogen atom.=#\n",
    "C_2 = 2.3*1.6*10^(-19);\n",
    "x_0 = 1.5*10^(-10);\n",
    "d = 1;\n",
    "t_Si_H(x) = C_2*exp(-(x-x_0)/d);\n",
    "d_t_Si_H(x) = -(C_2/d)*exp(-(x-x_0)/d); #=Derivative.=#\n",
    "\n",
    "#=Hopping between the STM tip and the hydrogen atom.=#\n",
    "C_3 = 2.3*1.6*10^(-19);\n",
    "x_0 = 1.5*10^(-10);\n",
    "Xi = 1;\n",
    "t_STM_H(x) = C_3*exp(-(x_0-x)/Xi);\n",
    "d_t_STM_H(x) = (C_3/Xi)*exp(-(x_0-x)/Xi);#=Derivative.=#"
   ]
  },
  {
   "cell_type": "code",
   "execution_count": 4,
   "id": "0105d5c9",
   "metadata": {},
   "outputs": [],
   "source": [
    "Nx = 1\n",
    "Ny_max = 2\n",
    "\n",
    "U11 = 0.16*1.6*10^(-19); # nearest neighbor potential in first layer\n",
    "U22 = 0.16*1.6*10^(-19) # nearest neighbor potential term in 2nd layer\n",
    "H_U_Si_H = 1 # nearest neighbor potential betweeen hydrogen and silicon atom\n",
    "\n",
    "t11 = 0.8*1.6*10^(-19); # nearest neighbor hopping in first layer\n",
    "t22 = 0.8*1.6*10^(-19) # nearest nighbor hopping in 2nd layer\n",
    "\n",
    "t_si = 1.6*10^(-19) # nearest neighor hopping between silicon and hydrogen atom\n",
    "t_b1 = 1.6*10^(-19)  # loss/gain at boundary 1\n",
    "t_b2 = 1.6*10^(-19)  # loss/gain at boundary 2\n",
    "t_b3 = 1.6*10^(-19)  # loss/gain at boundary 3\n",
    "t_b4 = 1.6*10^(-19) ; # loss/gain at boundary 4\n",
    "t_stm = 1.6*10^(-19) ; # hopping between the STM tip and the hydrogen atom."
   ]
  },
  {
   "cell_type": "code",
   "execution_count": 5,
   "id": "0d2fec69-1e8f-4673-9ebe-f6e54bd65875",
   "metadata": {},
   "outputs": [],
   "source": [
    "#= The following is the potential in which the hydrogen experiences from\n",
    "the bulk and the surrounding silicon atoms. For now, we will approximate\n",
    "it as a harmonic potential. =#\n",
    "k = 1.6*10^(-19);\n",
    "# x_0 is defined above.\n",
    "V(x) = 0.5*k*(x-x_0/2)^2;"
   ]
  },
  {
   "cell_type": "code",
   "execution_count": 6,
   "id": "70f6109b-f0b9-43f0-9411-7058b4e5b214",
   "metadata": {},
   "outputs": [],
   "source": [
    "#=\n",
    "In the following lines, specify the position\n",
    "of the silicon atom and the hydrogen atom in the lattice that we are interested in.\n",
    "=#\n",
    "\n",
    "Si_position = 6;\n",
    "H_position = 13;"
   ]
  },
  {
   "cell_type": "code",
   "execution_count": 7,
   "id": "2847a3c4",
   "metadata": {},
   "outputs": [],
   "source": [
    "it=Iterators.product(ntuple(_ -> 0:1, 1+Nx*Ny_max*6)...);\n",
    "p=collect(it); # possible states with non conserving particle number"
   ]
  },
  {
   "cell_type": "code",
   "execution_count": 8,
   "id": "86953a17",
   "metadata": {},
   "outputs": [],
   "source": [
    "# Generating a matrix with zeros.\n",
    "H = zeros(2^(1+Nx*Ny_max*6),2^(1+Nx*Ny_max*6)); # 6 nearest neighbours.\n",
    "size(H);"
   ]
  },
  {
   "cell_type": "code",
   "execution_count": 9,
   "id": "980e98a7-64f8-41a3-8b8d-0fdcf1f7d0fa",
   "metadata": {},
   "outputs": [],
   "source": [
    "#= The derivative of the Hamiltonian with respect to x. =#\n",
    "d_H = zeros(2^(1+Nx*Ny_max*6),2^(1+Nx*Ny_max*6));"
   ]
  },
  {
   "cell_type": "markdown",
   "id": "ce31ae6a",
   "metadata": {
    "tags": []
   },
   "source": [
    "# Constructing the leayers"
   ]
  },
  {
   "cell_type": "code",
   "execution_count": 10,
   "id": "fa763e4d",
   "metadata": {},
   "outputs": [],
   "source": [
    "#= List of bonds for Nx = 1 and Ny = 2 for reference.=#\n",
    "bonds = [\n",
    "        # first layer.\n",
    "        [1,2],[2,3],[3,4],[7,8],[8,9],[9,10],\n",
    "        # second layer.\n",
    "        [5,6],[11,12],\n",
    "        # first to second layer.\n",
    "        [2,5],[4,6],[8,11],[10,12],\n",
    "        # second to third layer.\n",
    "        [8,5],[10,6]\n",
    "        ];"
   ]
  },
  {
   "cell_type": "code",
   "execution_count": 11,
   "id": "43bbf2cc",
   "metadata": {},
   "outputs": [],
   "source": [
    "layer_1 = [];\n",
    "for Ny=1:Ny_max\n",
    "    for k=6*(Nx)*(Ny-1)+1:6*(Nx)*(Ny-1)+4*Nx-1\n",
    "        push!(layer_1,[k,k+1])\n",
    "    end\n",
    "end\n",
    "#layer_1;"
   ]
  },
  {
   "cell_type": "code",
   "execution_count": 12,
   "id": "43d410f7",
   "metadata": {},
   "outputs": [
    {
     "data": {
      "text/plain": [
       "2-element Vector{Any}:\n",
       " [5, 6]\n",
       " [11, 12]"
      ]
     },
     "execution_count": 12,
     "metadata": {},
     "output_type": "execute_result"
    }
   ],
   "source": [
    "layer_2 = [];\n",
    "for Ny=1:Ny_max\n",
    "    for k=6*Nx*(Ny-1)+4*Nx+1:2:6*Nx*(Ny-1)+4*Nx+2*Nx-1\n",
    "        push!(layer_2,[k,k+1])\n",
    "    end\n",
    "end\n",
    "#layer_2"
   ]
  },
  {
   "cell_type": "code",
   "execution_count": 13,
   "id": "03325f6c",
   "metadata": {},
   "outputs": [
    {
     "data": {
      "text/plain": [
       "4-element Vector{Any}:\n",
       " [2, 5]\n",
       " [4, 6]\n",
       " [8, 11]\n",
       " [10, 12]"
      ]
     },
     "execution_count": 13,
     "metadata": {},
     "output_type": "execute_result"
    }
   ],
   "source": [
    "layer_1_2 = [];\n",
    "for Ny=1:Ny_max\n",
    "    for n=2:2:4*Nx\n",
    "        push!(layer_1_2,[Nx*6*(Ny-1)+n,Nx*6*(Ny-1)+4*Nx+Int(n/2)])\n",
    "    end\n",
    "end\n",
    "#layer_1_2"
   ]
  },
  {
   "cell_type": "code",
   "execution_count": 14,
   "id": "5c0e467e",
   "metadata": {},
   "outputs": [],
   "source": [
    "layer_2_3 = [];\n",
    "for Ny=2:Ny_max\n",
    "    for n1=2:2:4*Nx\n",
    "        push!(layer_2_3,[Nx*6*(Ny-1)+n1,Nx*6*(Ny-2)+4*Nx+Int(n1/2)])\n",
    "    end\n",
    "end\n",
    "layer_2_3;"
   ]
  },
  {
   "cell_type": "code",
   "execution_count": 15,
   "id": "1ab99393",
   "metadata": {},
   "outputs": [],
   "source": [
    "#= The following concatenates all the ordered pairs. =#\n",
    "bonds = vcat(layer_1,layer_2,layer_1_2,layer_2_3);"
   ]
  },
  {
   "cell_type": "markdown",
   "id": "c6bdd90c",
   "metadata": {
    "tags": []
   },
   "source": [
    "# Constant terms of H"
   ]
  },
  {
   "cell_type": "markdown",
   "id": "a9663da1",
   "metadata": {
    "jp-MarkdownHeadingCollapsed": true,
    "tags": []
   },
   "source": [
    "### Creating a list of all the four boundaries"
   ]
  },
  {
   "cell_type": "code",
   "execution_count": 16,
   "id": "92e60182",
   "metadata": {},
   "outputs": [],
   "source": [
    "first_bd = [];\n",
    "second_bd = [];\n",
    "for Ny=1:Ny_max\n",
    "    if Ny == 1 # First boundary\n",
    "        \n",
    "        for k=6*(Nx)*(Ny-1)+1:6*(Nx)*(Ny-1)+4*Nx\n",
    "            push!(first_bd,k)\n",
    "        end\n",
    "        \n",
    "    elseif Ny == Ny_max # second boundary.\n",
    "        \n",
    "        for k=6*(Nx)*(Ny-1)+4*Nx+1:2:6*(Nx)*(Ny-1)+4*Nx+2*Nx-1\n",
    "            push!(second_bd,k)\n",
    "            push!(second_bd,k+1)\n",
    "        end   \n",
    "    end\n",
    "end\n",
    "\n",
    "third_bd = [];\n",
    "fourth_bd = [];\n",
    "for Ny=1:Ny_max\n",
    "    k=1+Nx*6*(Ny-1)\n",
    "    push!(third_bd,k)\n",
    "    k=4*Nx+Nx*6*(Ny-1)\n",
    "    push!(fourth_bd,k)\n",
    "    #println(k)  \n",
    "end"
   ]
  },
  {
   "cell_type": "markdown",
   "id": "2260bdfb-e546-4da9-b1cd-5e2ea56b9635",
   "metadata": {
    "jp-MarkdownHeadingCollapsed": true,
    "tags": []
   },
   "source": [
    "## Constant Hamiltonian as a function"
   ]
  },
  {
   "cell_type": "code",
   "execution_count": 17,
   "id": "e659b9b0",
   "metadata": {},
   "outputs": [
    {
     "data": {
      "text/plain": [
       "Hamiltonian_constant (generic function with 1 method)"
      ]
     },
     "execution_count": 17,
     "metadata": {},
     "output_type": "execute_result"
    }
   ],
   "source": [
    "function Hamiltonian_constant()\n",
    "    local H1 = zeros(2^(1+Nx*Ny_max*6),2^(1+Nx*Ny_max*6)); # 6 nearest neighbours.\n",
    "    #= Gain and loss of fermions at the four boundaries. =#\n",
    "    for n=1:2^(Nx*Ny_max*6+1)\n",
    "        # first boundary.\n",
    "        for j=1:length(first_bd)\n",
    "            site=first_bd[j]\n",
    "            # gain\n",
    "            if p[n][site]==1  # electron is there. # 1 if gain\n",
    "                q=collect(p[n])  \n",
    "                q[site]=0 # electron is lost. # 0 if gain 1 if loss\n",
    "            # loss    \n",
    "            elseif p[n][site] == 0 # electron is not there. # 0 if loss\n",
    "                q=collect(p[n])\n",
    "                q[site]=1 # electron is gained. # 0 if gain 1 if loss\n",
    "            end                \n",
    "            #= The phase is calculated below. =#\n",
    "            #phase1=(-1)^(sum(p[n][k:Nx*Ny_max*6]))\n",
    "            phase2=1\n",
    "            if site<Nx*Ny_max*6\n",
    "                phase2=(-1)^(sum(p[n][site:6*Nx*Ny_max+1]))\n",
    "            end\n",
    "            for n1=1:2^(1+Nx*Ny_max*6)\n",
    "                if collect(p[n1])==q                \n",
    "                    H1[n,n1]+=t_b1*phase2\n",
    "                end\n",
    "            end                \n",
    "        end\n",
    "        # second boundary.\n",
    "        for j=1:length(second_bd) \n",
    "            site = second_bd[j]\n",
    "            # loss\n",
    "            if p[n][site]==1 # electron is there.\n",
    "                q=collect(p[n])\n",
    "                q[site]=0 # electron is lost.\n",
    "            # gain   \n",
    "            elseif p[n][site]==0 # electron is not there.\n",
    "                q=collect(p[n])\n",
    "                q[site]=1 # electron is gained.\n",
    "            end    \n",
    "            phase2=1\n",
    "            if site<6*Nx*Ny_max+1\n",
    "                phase2=(-1)^(sum(p[n][site:6*Nx*Ny_max+1]))\n",
    "            end\n",
    "            for n1=1:2^(6*Nx*Ny_max+1)\n",
    "                if collect(p[n1])==q\n",
    "                    H1[n,n1]+=t_b2*phase2\n",
    "                end\n",
    "            end\n",
    "        end\n",
    "        # third boundary.\n",
    "        for j=1:length(third_bd) \n",
    "            site = third_bd[j]\n",
    "            # loss\n",
    "            if p[n][site]==1 # electron is there.\n",
    "                q=collect(p[n])\n",
    "                q[site]=0 # electron is lost.\n",
    "            # gain   \n",
    "            elseif p[n][site]==0 # electron is not there.\n",
    "                q=collect(p[n])\n",
    "                q[site]=1 # electron is gained.\n",
    "            end  \n",
    "            phase2=1\n",
    "            if site<6*Nx*Ny_max+1\n",
    "                phase2=(-1)^(sum(p[n][site:6*Nx*Ny_max+1]))\n",
    "            end\n",
    "            for n1=1:2^(6*Nx*Ny_max+1)\n",
    "                if collect(p[n1])==q\n",
    "                    H1[n,n1]+=t_b3*phase2\n",
    "                end\n",
    "            end\n",
    "        end\n",
    "        # fourth boundary.\n",
    "        for j=1:length(fourth_bd) \n",
    "            site = fourth_bd[j]\n",
    "            # loss\n",
    "            if p[n][site]==1 # electron is there.\n",
    "                q=collect(p[n])\n",
    "                q[site]=0 # electron is lost.\n",
    "            # gain   \n",
    "            elseif p[n][site]==0 # electron is not there.\n",
    "                q=collect(p[n])\n",
    "                q[site]=1 # electron is gained.\n",
    "            end  \n",
    "            phase2=1\n",
    "            if site<6*Nx*Ny_max+1\n",
    "                phase2=(-1)^(sum(p[n][site:6*Nx*Ny_max+1]))\n",
    "            end\n",
    "            for n1=1:2^(6*Nx*Ny_max+1)\n",
    "                if collect(p[n1])==q\n",
    "                    H1[n,n1]+=t_b4*phase2\n",
    "                end\n",
    "            end\n",
    "        end    \n",
    "    end  \n",
    "    \n",
    "    #= NN interaction and NN hopping between Silicon layers. =#\n",
    "    # Imagine I'm given a list bonds = [[1,2],[2,3],etc]\n",
    "\n",
    "    for n=1:2^(1+Nx*Ny_max*6) # Loop over basis states\n",
    "        for j=1:length(bonds)\n",
    "            site1=bonds[j][1] # First number in the pair.\n",
    "            site2=bonds[j][2] # Second number in the pair.\n",
    "            #=\n",
    "            Assuming NN interaction between any two layers are same (U11).\n",
    "            NN interaction term has no Hermitian conjugate.\n",
    "            If both p[n][site] and p[n][site2] are occupied, then\n",
    "            the potential U11 will be added to the Hamiltonian. \n",
    "            =#\n",
    "            H1[n,n] += U11 * p[n][site1] * p[n][site2] # NN Interaction term\n",
    "            #= NN hopping has Hermitian conjugate =#\n",
    "            if p[n][site1] == 1 && p[n][site2]==0 # NN hopping\n",
    "                q=collect(p[n]) # collect makes p[n] a vector.\n",
    "                q[site1]=0\n",
    "                q[site2]=1\n",
    "                phase1=(-1)^(sum(p[n][site1:6*Nx*Ny_max+1]))\n",
    "                phase2=1\n",
    "                if site2 < 6*Nx*Ny_max+1 \n",
    "                    phase2=(-1)^(sum(p[n][site2:6*Nx*Ny_max+1]))\n",
    "                end\n",
    "                for n1=1:2^(6*Nx*Ny_max+1)\n",
    "                    if collect(p[n1]) == q\n",
    "                        H1[n,n1]+=t22*phase1*phase2\n",
    "                        H1[n1,n]+=t22*phase1*phase2 # hermitian conjugate\n",
    "                    end\n",
    "                end\n",
    "            end\n",
    "        end\n",
    "    end    \n",
    "    return H1\n",
    "end    "
   ]
  },
  {
   "cell_type": "markdown",
   "id": "d5443bf0",
   "metadata": {
    "tags": []
   },
   "source": [
    "# Variable terms of the Hamiltonian"
   ]
  },
  {
   "cell_type": "markdown",
   "id": "56172653",
   "metadata": {
    "jp-MarkdownHeadingCollapsed": true,
    "tags": []
   },
   "source": [
    "### Nearest neighbour hopping between the silicon and hydrogen atom"
   ]
  },
  {
   "cell_type": "code",
   "execution_count": 18,
   "id": "d43df12e",
   "metadata": {},
   "outputs": [],
   "source": [
    "#=\n",
    "The position of the silicon and the hydrogen attached to it is\n",
    "specified at the top.\n",
    "=#\n",
    "#= Array holding the coordinates of the non-zero terms. =#\n",
    "t_Si_H_Positions = []\n",
    "#= Array holding the corresponding phases in the position of the elements in the array above. =#\n",
    "t_Si_H_Phases = []\n",
    "\n",
    "#H_t_Si_H = zeros(2^(1+Nx*Ny_max*6),2^(1+Nx*Ny_max*6))\n",
    "for n = 1:2^(1+Nx*Ny_max*6) # Iterating over all basis states.\n",
    "    #=  \n",
    "    p[n][Si_position] = 1 means there is an electron in the Si atom.\n",
    "    p[n][H_position] = 0 means there is no electron in the H atom.\n",
    "    =#\n",
    "    if p[n][H_position]==1 && p[n][Si_position]==0\n",
    "        \n",
    "        q=p[n]\n",
    "        q=collect(p[n])\n",
    "        \n",
    "        q[H_position]=0 # The electron in the Si is lost.\n",
    "        q[Si_position]=1 # An electron in the H is gained.\n",
    "        \n",
    "        phase1=(-1)^(sum(p[n][H_position:1+Nx*Ny_max*6]))\n",
    "        phase2=1\n",
    "        \n",
    "        if H_position < Nx*Ny_max*6      \n",
    "            phase2=(-1)^(sum(p[n][Si_position:6*Nx*Ny_max+1]))\n",
    "        end\n",
    "    \n",
    "        for n1=1:2^(Nx*Ny_max*6)\n",
    "            if collect(p[n1])==q\n",
    "                #H_t_Si_H[n,n1] += phase1*phase2\n",
    "                #H_t_Si_H[n1,n] += phase1*phase2\n",
    "                push!(t_Si_H_Positions,[n,n1])\n",
    "                #push!(t_Si_H_Positions,[n1,n])\n",
    "                push!(t_Si_H_Phases,[phase1*phase2])\n",
    "                # The Hamiltonian.\n",
    "                #H_array[n,n1] = x -> t_Si_H(x)*phase1*phase2\n",
    "                #H_array[n1,n] = x -> t_Si_H(x)*phase1*phase2\n",
    "            end        \n",
    "        end\n",
    "    end    \n",
    "end"
   ]
  },
  {
   "cell_type": "markdown",
   "id": "d477728a-6241-49f3-a36c-f268f83e4c75",
   "metadata": {
    "jp-MarkdownHeadingCollapsed": true,
    "tags": []
   },
   "source": [
    "### NN interaction between the Silicon atom and the Hydrogen atom"
   ]
  },
  {
   "cell_type": "code",
   "execution_count": 19,
   "id": "ebe68887-94a4-489e-9e0e-68c282bc8317",
   "metadata": {},
   "outputs": [],
   "source": [
    "#=\n",
    "The position of the silicon and the hydrogen attached to it is\n",
    "specified at the top.\n",
    "=#\n",
    "#H_U_Si_H = zeros(2^(1+Nx*Ny_max*6),2^(1+Nx*Ny_max*6))\n",
    "U_Si_H_Positions = []\n",
    "for n = 1:2^(1+Nx*Ny_max*6) # Iterating over all basis states.\n",
    "    \n",
    "    #=  \n",
    "    p[n][Si_position] = 1 means there is an electron in the Si atom.\n",
    "    p[n][H_position] = 0 means there is no electron in the H atom.\n",
    "    =#\n",
    "    if p[n][H_position]==1 && p[n][Si_position]==1\n",
    "        #H_U_Si_H[n,n] += 1\n",
    "        push!(U_Si_H_Positions,[n,n])\n",
    "        #H[n,n] += H_U_Si_H\n",
    "        #dH[n,n] *= \"a\"\n",
    "    end    \n",
    "end"
   ]
  },
  {
   "cell_type": "markdown",
   "id": "c42ce81f",
   "metadata": {
    "jp-MarkdownHeadingCollapsed": true,
    "tags": []
   },
   "source": [
    "### Electron loss and gain with the STM tip"
   ]
  },
  {
   "cell_type": "code",
   "execution_count": 20,
   "id": "63cb7d7b",
   "metadata": {},
   "outputs": [],
   "source": [
    "#=\n",
    "Exchange of electrons between the STM tip and the hydrogen atom.\n",
    "This is a non-Hermitian term in the Hamiltonian. The position of\n",
    "the hydrogen is specified at the top.\n",
    "=#\n",
    "#H_t_STM_H = zeros(2^(1+Nx*Ny_max*6),2^(1+Nx*Ny_max*6))\n",
    "t_STM_H_Positions = []\n",
    "for n = 1:2^(1+Nx*Ny_max*6) # Iterating over all basis states.\n",
    "    \n",
    "    # gain\n",
    "    if p[n][H_position]==1  # electron is there.\n",
    "        \n",
    "        q=collect(p[n])  \n",
    "        q[H_position]=0 # electron is lost.\n",
    "\n",
    "    # loss    \n",
    "    elseif p[n][H_position] == 0 # electron is not there.\n",
    "        \n",
    "        q=collect(p[n])\n",
    "        q[H_position]=1 # electron is gained.\n",
    "        \n",
    "    end  \n",
    "        \n",
    "    for n1=1:2^(Nx*Ny_max*6)\n",
    "        if collect(p[n1])==q\n",
    "            #H_t_STM_H[n,n1] += 1\n",
    "            push!(t_STM_H_Positions,[n,n1])\n",
    "            #H[n,n1] += t_stm\n",
    "            #dH_dx[n,n1] *= \"c\"\n",
    "        end\n",
    "    \n",
    "    end\n",
    "    \n",
    "end    "
   ]
  },
  {
   "cell_type": "markdown",
   "id": "86a4d064-4a80-4b92-8131-efbc47311fe9",
   "metadata": {
    "jp-MarkdownHeadingCollapsed": true,
    "tags": []
   },
   "source": [
    "## Variable Hamiltonian as a function of x"
   ]
  },
  {
   "cell_type": "code",
   "execution_count": 21,
   "id": "b181cd20-e533-4530-b9b9-8d5d093b5a7f",
   "metadata": {},
   "outputs": [
    {
     "data": {
      "text/plain": [
       "Hamiltonian_variable (generic function with 1 method)"
      ]
     },
     "execution_count": 21,
     "metadata": {},
     "output_type": "execute_result"
    }
   ],
   "source": [
    "HC = Hamiltonian_constant();\n",
    "function Hamiltonian_variable(x)\n",
    "    local H_x = zeros(2^(1+Nx*Ny_max*6),2^(1+Nx*Ny_max*6));\n",
    "    #= Nearest neighbour interaction between Si and H atom. =#\n",
    "    N1 = length(t_Si_H_Positions)\n",
    "    for i in 1:N1\n",
    "        H_x[t_Si_H_Positions[i][1],t_Si_H_Positions[i][2]] += U_Si_H(x)*t_Si_H_Phases[i][1]\n",
    "        H_x[t_Si_H_Positions[i][2],t_Si_H_Positions[i][1]] += U_Si_H(x)*t_Si_H_Phases[i][1] # Hermitian conjugate.\n",
    "    end\n",
    "    #= NN hoppoing between the Si and H atom. =#\n",
    "    N2 = length(U_Si_H_Positions)\n",
    "    for i in 1:N2\n",
    "        H_x[U_Si_H_Positions[i][1],U_Si_H_Positions[i][2]] += t_Si_H(x)\n",
    "    end\n",
    "    #= STM and the H atom interaction.=#\n",
    "    N3 = length(t_STM_H_Positions)\n",
    "    for i in 1:N3\n",
    "        H_x[t_STM_H_Positions[i][1],t_STM_H_Positions[i][2]] += t_STM_H(x) \n",
    "    end\n",
    "    return HC+H_x\n",
    "end"
   ]
  },
  {
   "cell_type": "markdown",
   "id": "516f41b3-71b9-4180-88f6-cfb44047c4ad",
   "metadata": {
    "tags": []
   },
   "source": [
    "## Derivative of the Hamiltonian as a function of x"
   ]
  },
  {
   "cell_type": "code",
   "execution_count": 22,
   "id": "714904b8-fc62-4dd4-b650-60691bcc2e42",
   "metadata": {},
   "outputs": [
    {
     "data": {
      "text/plain": [
       "dHamiltonian (generic function with 1 method)"
      ]
     },
     "execution_count": 22,
     "metadata": {},
     "output_type": "execute_result"
    }
   ],
   "source": [
    "function dHamiltonian(x)\n",
    "    local dHx = zeros(2^(1+6*Nx*Ny_max),2^(1+6*Nx*Ny_max));\n",
    "    #= Nearest neighbour interaction between Si and H atom. =#\n",
    "    N1 = length(t_Si_H_Positions)\n",
    "    for i in 1:N1\n",
    "        dHx[t_Si_H_Positions[i][1],t_Si_H_Positions[i][2]] += d_U_Si_H(x)*t_Si_H_Phases[i][1]\n",
    "        dHx[t_Si_H_Positions[i][2],t_Si_H_Positions[i][1]] += d_U_Si_H(x)*t_Si_H_Phases[i][1] # Hermitian conjugate.\n",
    "    end    \n",
    "    #= NN hopping between the Si and H atom. =#\n",
    "    N2 = length(U_Si_H_Positions)\n",
    "    for i in 1:N2\n",
    "        dHx[U_Si_H_Positions[i][1],U_Si_H_Positions[i][2]] += d_t_Si_H(x)\n",
    "    end    \n",
    "    #= STM and the H atom interaction. =#\n",
    "    N3 = length(t_STM_H_Positions)\n",
    "    for i in 1:N3\n",
    "        dHx[t_STM_H_Positions[i][1],t_STM_H_Positions[i][2]] += d_t_STM_H(x) \n",
    "    end    \n",
    "    return dHx\n",
    "end"
   ]
  },
  {
   "cell_type": "markdown",
   "id": "1757081e",
   "metadata": {},
   "source": [
    "## Equation of motion for $x$"
   ]
  },
  {
   "cell_type": "code",
   "execution_count": 45,
   "id": "4047057d",
   "metadata": {},
   "outputs": [
    {
     "name": "stderr",
     "output_type": "stream",
     "text": [
      "WARNING: Force throwing a SIGINT\n"
     ]
    },
    {
     "ename": "LoadError",
     "evalue": "InterruptException:",
     "output_type": "error",
     "traceback": [
      "InterruptException:",
      ""
     ]
    }
   ],
   "source": [
    "#= Initial conditions. =#\n",
    "t_i = 0.0\n",
    "x_i = 1.5*10^(-10)\n",
    "p_i = 0.0\n",
    "#= List to store the t,y and z values. =#\n",
    "ts = [t_i]\n",
    "xs = [x_i]\n",
    "ps = [p_i]\n",
    "# Time steps. =#\n",
    "dt = 10^(-17)\n",
    "# Final time. #\n",
    "t_end = 10^(-16);\n",
    "\n",
    "#= Initializing the parameters. =#\n",
    "t = t_i\n",
    "x = x_i\n",
    "p = p_i\n",
    "#= The wavefunction is started with a matrix of random numbers.=#\n",
    "psi = rand(Float64,(1,2^(1+Nx*Ny_max*6)));\n",
    "#= The wavefunction is normalized. =#\n",
    "Psi_i = psi/norm(psi);\n",
    "\n",
    "# The coupled ODEs. =#\n",
    "dxdt(t,x,p) = p/m_e;\n",
    "dpdt(t,x,p) = -k*(x-x_0/2)-(Psi'*dHamiltonian(x)*Psi)[1];\n",
    "\n",
    "Psi = Psi_i' #= Psi is a column matrix. =#\n",
    "while t<t_end\n",
    "\n",
    "    #= Runge Kutta algorithm of order four. =#\n",
    "    k1 = dt*dxdt(t,x,p)\n",
    "    h1 = dt*dpdt(t,x,p)\n",
    "    k2 = dt*dxdt(t+dt/2, x+k1/2, p+h1/2)\n",
    "    h2 = dt*dpdt(t+dt/2, x+k1/2, p+h1/2)\n",
    "    k3 = dt*dxdt(t+dt/2, x+k2/2, p+h2/2)\n",
    "    h3 = dt*dpdt(t+dt/2, x+k2/2, p+h2/2)\n",
    "    k4 = dt*dxdt(t+dt, x+k3, p+h3)\n",
    "    h4 = dt*dpdt(t+dt, x+k3, p+h3)\n",
    "\n",
    "    x = x + (k1+2*k2+2*k3+k4)/6\n",
    "    p = p + (h1+2*h2+2*h3+h4)/6\n",
    "    t = t + dt\n",
    "    push!(ts,t)\n",
    "    push!(xs,x)\n",
    "    push!(ps,p)\n",
    "\n",
    "    #= The wavefunction at time t+dt. =#\n",
    "    Psi = exp(-1im*Hamiltonian_variable(x)*dt/hbar)*Psi\n",
    "    \n",
    "    #println(t)\n",
    "    #println(x)\n",
    "    #println(p)\n",
    "    #println(Psi);\n",
    "end\n",
    "#using Plots\n",
    "#plot(ts,xs)\n",
    "#plot!(ts,ps)"
   ]
  },
  {
   "cell_type": "code",
   "execution_count": 47,
   "id": "5a439409-18b0-4407-bb9b-e7db19c4bf6c",
   "metadata": {},
   "outputs": [],
   "source": [
    "py\"\"\"\n",
    "f = open('dynamics_data'+'.txt', 'w')\n",
    "def Write_file(t, x, p):\n",
    "    f = open('dynamics_data'+'.txt', 'a')\n",
    "    f.write(str(t) +'\\t'+ str(x)+ '\\t' + str(p) +'\\n')\n",
    "\"\"\""
   ]
  },
  {
   "cell_type": "code",
   "execution_count": null,
   "id": "175317f5-1691-4a84-866d-c682d269f4b8",
   "metadata": {},
   "outputs": [],
   "source": [
    "for i=1:length(x)\n",
    "        py\"Write_file\"(ts[i],xs[i],ps[i])\n",
    "end"
   ]
  },
  {
   "cell_type": "code",
   "execution_count": null,
   "id": "91ed55fc-977d-4f30-9522-eff136ca6bbc",
   "metadata": {},
   "outputs": [],
   "source": []
  },
  {
   "cell_type": "code",
   "execution_count": 42,
   "id": "f16b97b7-58c5-46f2-a9a0-73b506d9f3db",
   "metadata": {},
   "outputs": [],
   "source": [
    "#Psi = Psi_i';"
   ]
  },
  {
   "cell_type": "code",
   "execution_count": 33,
   "id": "38e95ca3-d2bc-4cd0-a2e3-d2cda0d1cc3e",
   "metadata": {},
   "outputs": [
    {
     "name": "stdout",
     "output_type": "stream",
     "text": [
      "  0.521991 seconds (613.07 k allocations: 2.026 GiB, 8.67% gc time, 12.82% compilation time)\n"
     ]
    }
   ],
   "source": [
    "#dt = 10^(-17)\n",
    "#@time HH = Hamiltonian_variable(0.1)*(dt)/hbar;"
   ]
  },
  {
   "cell_type": "code",
   "execution_count": 37,
   "id": "3c8acb55-39f8-470b-a0d6-88b9cdd93da4",
   "metadata": {},
   "outputs": [],
   "source": [
    "#HE = exp(-1im*HH);"
   ]
  },
  {
   "cell_type": "markdown",
   "id": "23b5a78b",
   "metadata": {
    "tags": []
   },
   "source": [
    "## Equation of motion for $p$"
   ]
  },
  {
   "cell_type": "markdown",
   "id": "c535cdc0",
   "metadata": {
    "tags": []
   },
   "source": [
    "## Equation of motion for $|\\psi>$"
   ]
  },
  {
   "cell_type": "code",
   "execution_count": null,
   "id": "ccb10144",
   "metadata": {},
   "outputs": [],
   "source": []
  }
 ],
 "metadata": {
  "kernelspec": {
   "display_name": "Julia 1.8.1",
   "language": "julia",
   "name": "julia-1.8"
  },
  "language_info": {
   "file_extension": ".jl",
   "mimetype": "application/julia",
   "name": "julia",
   "version": "1.8.1"
  }
 },
 "nbformat": 4,
 "nbformat_minor": 5
}
