{
 "cells": [
  {
   "cell_type": "markdown",
   "id": "389e3738",
   "metadata": {},
   "source": [
    "# Hydrogen depassivation lithography"
   ]
  },
  {
   "cell_type": "code",
   "execution_count": 94,
   "id": "0105d5c9",
   "metadata": {},
   "outputs": [],
   "source": [
    "Nx=1\n",
    "Ny_max=2\n",
    "\n",
    "U11=1 # nearest neighbor potential in first layer\n",
    "U22=1 # nearest neighbor potential term in 2nd layer\n",
    "Usi=1# nearest neighbor potential betweeen hydrogen and silicon atom\n",
    "\n",
    "t22=1 # nearest nighbor hopping in 2nd layer\n",
    "t11=1 # nearest neighbor hopping in first layer\n",
    "t_si= # nearest neighor hopping between silicon and hydrogen atom\n",
    "t_b1=1 # loss/gain at boundary 1\n",
    "t_b2=1 # loss/gain at boundary 2\n",
    "t_b3=1 # loss/gain at boundary 3\n",
    "t_b4=1; # loss/gain at boundary 4"
   ]
  },
  {
   "cell_type": "code",
   "execution_count": 95,
   "id": "2847a3c4",
   "metadata": {},
   "outputs": [],
   "source": [
    "it=Iterators.product(ntuple(_ -> 0:1, 1+Nx*Ny_max*6)...);\n",
    "p=collect(it); # possible states with non conserving particle number"
   ]
  },
  {
   "cell_type": "code",
   "execution_count": 96,
   "id": "86953a17",
   "metadata": {},
   "outputs": [
    {
     "data": {
      "text/plain": [
       "(8192, 8192)"
      ]
     },
     "execution_count": 96,
     "metadata": {},
     "output_type": "execute_result"
    }
   ],
   "source": [
    "# Generating a matrix with zeros.\n",
    "H=zeros(2^(1+Nx*Ny_max*6),2^(1+Nx*Ny_max*6)); # 6 nearest neighbours.\n",
    "size(H)"
   ]
  },
  {
   "cell_type": "code",
   "execution_count": 97,
   "id": "fa763e4d",
   "metadata": {},
   "outputs": [],
   "source": [
    "#= List of bonds for Nx = 1 and Ny = 2 for reference.=#\n",
    "bonds = [\n",
    "        # first layer.\n",
    "        [1,2],[2,3],[3,4],[7,8],[8,9],[9,10],\n",
    "        # second layer.\n",
    "        [5,6],[11,12],\n",
    "        # first to second layer.\n",
    "        [2,5],[4,6],[8,11],[10,12],\n",
    "        # second to third layer.\n",
    "        [8,5],[10,6]\n",
    "        ];"
   ]
  },
  {
   "cell_type": "markdown",
   "id": "75b82478",
   "metadata": {},
   "source": [
    "## Layers\n",
    "The following loops create arrays for nearest neighbors interactions\n",
    "and nearest neighbors potentials for layers one and two ."
   ]
  },
  {
   "cell_type": "code",
   "execution_count": 98,
   "id": "43bbf2cc",
   "metadata": {},
   "outputs": [
    {
     "data": {
      "text/plain": [
       "6-element Vector{Any}:\n",
       " [1, 2]\n",
       " [2, 3]\n",
       " [3, 4]\n",
       " [7, 8]\n",
       " [8, 9]\n",
       " [9, 10]"
      ]
     },
     "execution_count": 98,
     "metadata": {},
     "output_type": "execute_result"
    }
   ],
   "source": [
    "layer_1 = [];\n",
    "for Ny=1:Ny_max\n",
    "    for k=6*(Nx)*(Ny-1)+1:6*(Nx)*(Ny-1)+4*Nx-1\n",
    "        push!(layer_1,[k,k+1])\n",
    "    end\n",
    "end\n",
    "layer_1"
   ]
  },
  {
   "cell_type": "code",
   "execution_count": 99,
   "id": "43d410f7",
   "metadata": {},
   "outputs": [
    {
     "data": {
      "text/plain": [
       "2-element Vector{Any}:\n",
       " [5, 6]\n",
       " [11, 12]"
      ]
     },
     "execution_count": 99,
     "metadata": {},
     "output_type": "execute_result"
    }
   ],
   "source": [
    "layer_2 = [];\n",
    "for Ny=1:Ny_max\n",
    "    for k=6*Nx*(Ny-1)+4*Nx+1:2:6*Nx*(Ny-1)+4*Nx+2*Nx-1\n",
    "        push!(layer_2,[k,k+1])\n",
    "    end\n",
    "end\n",
    "layer_2"
   ]
  },
  {
   "cell_type": "code",
   "execution_count": 100,
   "id": "03325f6c",
   "metadata": {},
   "outputs": [
    {
     "data": {
      "text/plain": [
       "4-element Vector{Any}:\n",
       " [2, 5]\n",
       " [4, 6]\n",
       " [8, 11]\n",
       " [10, 12]"
      ]
     },
     "execution_count": 100,
     "metadata": {},
     "output_type": "execute_result"
    }
   ],
   "source": [
    "layer_1_2 = [];\n",
    "for Ny=1:Ny_max\n",
    "    for n=2:2:4*Nx\n",
    "        push!(layer_1_2,[Nx*6*(Ny-1)+n,Nx*6*(Ny-1)+4*Nx+Int(n/2)])\n",
    "    end\n",
    "end\n",
    "layer_1_2"
   ]
  },
  {
   "cell_type": "code",
   "execution_count": 101,
   "id": "5c0e467e",
   "metadata": {},
   "outputs": [
    {
     "data": {
      "text/plain": [
       "2-element Vector{Any}:\n",
       " [8, 5]\n",
       " [10, 6]"
      ]
     },
     "execution_count": 101,
     "metadata": {},
     "output_type": "execute_result"
    }
   ],
   "source": [
    "layer_2_3 = [];\n",
    "for Ny=2:Ny_max\n",
    "    for n1=2:2:4*Nx\n",
    "        push!(layer_2_3,[Nx*6*(Ny-1)+n1,Nx*6*(Ny-2)+4*Nx+Int(n1/2)])\n",
    "    end\n",
    "end\n",
    "layer_2_3"
   ]
  },
  {
   "cell_type": "code",
   "execution_count": 102,
   "id": "1ab99393",
   "metadata": {},
   "outputs": [],
   "source": [
    "#= The following concatenates all the ordered pairs. =#\n",
    "bonds = vcat(layer_1,layer_2,layer_1_2,layer_2_3);"
   ]
  },
  {
   "cell_type": "code",
   "execution_count": 103,
   "id": "e659b9b0",
   "metadata": {},
   "outputs": [
    {
     "data": {
      "text/plain": [
       "13"
      ]
     },
     "execution_count": 103,
     "metadata": {},
     "output_type": "execute_result"
    }
   ],
   "source": [
    "length(p[7])"
   ]
  },
  {
   "cell_type": "markdown",
   "id": "ce70cc6d",
   "metadata": {},
   "source": [
    "## NN interaction and NN hopping term"
   ]
  },
  {
   "cell_type": "code",
   "execution_count": 104,
   "id": "3583a7bb",
   "metadata": {},
   "outputs": [],
   "source": [
    "# Imagine I'm given a list bonds = [[1,2],[2,3],etc]\n",
    "\n",
    "for n=1:2^(1+Nx*Ny_max*6) # Loop over basis states\n",
    "\n",
    "    for j=1:length(bonds)\n",
    "        \n",
    "        site1=bonds[j][1] # First number in the pair.\n",
    "        site2=bonds[j][2] # Second number in the pair.\n",
    "        \n",
    "        #=\n",
    "        Assuming NN interaction between any two layers are same (U11).\n",
    "        NN interaction term has no Hermitian conjugate.\n",
    "        If both p[n][site] and p[n][site2] are occupied, then\n",
    "        the potential U11 will be added to the Hamiltonian. \n",
    "        =#\n",
    "        H[n,n]+=U11*p[n][site1]*p[n][site2] # NN Interaction term\n",
    "        \n",
    "        \n",
    "        #= NN hopping has Hermitian conjugate =#\n",
    "        if p[n][site1] == 1 && p[n][site2]==0 # NN hopping\n",
    "            q=collect(p[n]) # collect makes p[n] a vector.\n",
    "            q[site1]=0\n",
    "            q[site2]=1\n",
    "            \n",
    "            phase1=(-1)^(sum(p[n][site1:6*Nx*Ny_max+1]))\n",
    "            phase2=1\n",
    "            \n",
    "            if site2 < 6*Nx*Ny_max+1 \n",
    "                phase2=(-1)^(sum(p[n][site2:6*Nx*Ny_max+1]))\n",
    "            end\n",
    "            \n",
    "            for n1=1:2^(6*Nx*Ny_max+1)\n",
    "                if collect(p[n1])==q\n",
    "                    H[n,n1]+=t22*phase1*phase2\n",
    "                    H[n1,n]+=t22*phase1*phase2 # hermitian conjugate\n",
    "                end\n",
    "            end\n",
    "        end\n",
    "    end\n",
    "end"
   ]
  },
  {
   "cell_type": "markdown",
   "id": "2b6328b2",
   "metadata": {},
   "source": [
    "### First and the second boundary"
   ]
  },
  {
   "cell_type": "code",
   "execution_count": 105,
   "id": "456e7399",
   "metadata": {},
   "outputs": [
    {
     "data": {
      "text/plain": [
       "4-element Vector{Any}:\n",
       " 1\n",
       " 2\n",
       " 3\n",
       " 4"
      ]
     },
     "execution_count": 105,
     "metadata": {},
     "output_type": "execute_result"
    }
   ],
   "source": [
    "first_bd = [];\n",
    "second_bd = [];\n",
    "for Ny=1:Ny_max\n",
    "    if Ny == 1 # First boundary\n",
    "        \n",
    "        for k=6*(Nx)*(Ny-1)+1:6*(Nx)*(Ny-1)+4*Nx\n",
    "            push!(first_bd,k)\n",
    "        end\n",
    "        \n",
    "    elseif Ny == Ny_max # second boundary.\n",
    "        \n",
    "        for k=6*(Nx)*(Ny-1)+4*Nx+1:2:6*(Nx)*(Ny-1)+4*Nx+2*Nx-1\n",
    "            push!(second_bd,k)\n",
    "            push!(second_bd,k+1)\n",
    "        end   \n",
    "    end\n",
    "end\n",
    "first_bd"
   ]
  },
  {
   "cell_type": "code",
   "execution_count": 106,
   "id": "5c92070c",
   "metadata": {},
   "outputs": [
    {
     "data": {
      "text/plain": [
       "2-element Vector{Any}:\n",
       " 11\n",
       " 12"
      ]
     },
     "execution_count": 106,
     "metadata": {},
     "output_type": "execute_result"
    }
   ],
   "source": [
    "second_bd"
   ]
  },
  {
   "cell_type": "markdown",
   "id": "90d4e542",
   "metadata": {},
   "source": [
    "### Third and the fourth boundary"
   ]
  },
  {
   "cell_type": "code",
   "execution_count": 107,
   "id": "9fd16388",
   "metadata": {},
   "outputs": [
    {
     "data": {
      "text/plain": [
       "2-element Vector{Any}:\n",
       " 1\n",
       " 7"
      ]
     },
     "execution_count": 107,
     "metadata": {},
     "output_type": "execute_result"
    }
   ],
   "source": [
    "third_bd = [];\n",
    "fourth_bd = [];\n",
    "for Ny=1:Ny_max\n",
    "    k=1+Nx*6*(Ny-1)\n",
    "    push!(third_bd,k)\n",
    "    k=4*Nx+Nx*6*(Ny-1)\n",
    "    push!(fourth_bd,k)\n",
    "    #println(k)  \n",
    "end\n",
    "third_bd"
   ]
  },
  {
   "cell_type": "code",
   "execution_count": 108,
   "id": "90a8037b",
   "metadata": {},
   "outputs": [
    {
     "data": {
      "text/plain": [
       "2-element Vector{Any}:\n",
       "  4\n",
       " 10"
      ]
     },
     "execution_count": 108,
     "metadata": {},
     "output_type": "execute_result"
    }
   ],
   "source": [
    "fourth_bd"
   ]
  },
  {
   "cell_type": "markdown",
   "id": "199bb1f9",
   "metadata": {},
   "source": [
    "### Gain and loss of fermions at the four boundaries"
   ]
  },
  {
   "cell_type": "code",
   "execution_count": 109,
   "id": "8ec1906c",
   "metadata": {},
   "outputs": [],
   "source": [
    "for n=1:2^(Nx*Ny_max*6+1)\n",
    "    \n",
    "    # first boundary.\n",
    "    for j=1:length(first_bd)\n",
    "        \n",
    "        site=first_bd[j]\n",
    "    \n",
    "        # gain\n",
    "        if p[n][site]==1  # electron is there. # 1 if gain\n",
    "            q=collect(p[n])  \n",
    "            q[site]=0 # electron is lost. # 0 if gain 1 if loss\n",
    "\n",
    "        # loss    \n",
    "        elseif p[n][site] == 0 # electron is not there. # 0 if loss\n",
    "            q=collect(p[n])\n",
    "            q[site]=1 # electron is gained. # 0 if gain 1 if loss\n",
    "        end                \n",
    "          \n",
    "        #= The phase is calculated below. =#\n",
    "        #phase1=(-1)^(sum(p[n][k:Nx*Ny_max*6]))\n",
    "        phase2=1\n",
    "            \n",
    "        if site<Nx*Ny_max*6\n",
    "            phase2=(-1)^(sum(p[n][site:6*Nx*Ny_max+1]))\n",
    "        end\n",
    "            \n",
    "        for n1=1:2^(1+Nx*Ny_max*6)\n",
    "            if collect(p[n1])==q                \n",
    "                H[n,n1]+=t_b1*phase2\n",
    "            end\n",
    "        end                \n",
    "    end\n",
    "            \n",
    "    # second boundary.\n",
    "    for j=1:length(second_bd) \n",
    "        \n",
    "        site = second_bd[j]\n",
    "        \n",
    "        # loss\n",
    "        if p[n][site]==1 # electron is there.\n",
    "            q=collect(p[n])\n",
    "            q[site]=0 # electron is lost.\n",
    "                    \n",
    "        # gain   \n",
    "        elseif p[n][site]==0 # electron is not there.\n",
    "            q=collect(p[n])\n",
    "            q[site]=1 # electron is gained.\n",
    "            \n",
    "        end    \n",
    "        phase2=1\n",
    "        if site<6*Nx*Ny_max+1\n",
    "            phase2=(-1)^(sum(p[n][site:6*Nx*Ny_max+1]))\n",
    "        end\n",
    "            \n",
    "            \n",
    "        for n1=1:2^(6*Nx*Ny_max+1)\n",
    "            if collect(p[n1])==q\n",
    "                H[n,n1]+=t_b2*phase2\n",
    "            end\n",
    "        end\n",
    "    end\n",
    "    \n",
    "    # third boundary.\n",
    "    for j=1:length(third_bd) \n",
    "        \n",
    "        site = third_bd[j]\n",
    "        \n",
    "        # loss\n",
    "        if p[n][site]==1 # electron is there.\n",
    "            q=collect(p[n])\n",
    "            q[site]=0 # electron is lost.\n",
    "                    \n",
    "        # gain   \n",
    "        elseif p[n][site]==0 # electron is not there.\n",
    "            q=collect(p[n])\n",
    "            q[site]=1 # electron is gained.\n",
    "            \n",
    "        end  \n",
    "        \n",
    "        phase2=1\n",
    "        if site<6*Nx*Ny_max+1\n",
    "            phase2=(-1)^(sum(p[n][site:6*Nx*Ny_max+1]))\n",
    "        end\n",
    "            \n",
    "            \n",
    "        for n1=1:2^(6*Nx*Ny_max+1)\n",
    "            if collect(p[n1])==q\n",
    "                H[n,n1]+=t_b3*phase2\n",
    "            end\n",
    "        end\n",
    "    end\n",
    "    \n",
    "    # fourth boundary.\n",
    "    for j=1:length(fourth_bd) \n",
    "        \n",
    "        site = fourth_bd[j]\n",
    "        \n",
    "        # loss\n",
    "        if p[n][site]==1 # electron is there.\n",
    "            q=collect(p[n])\n",
    "            q[site]=0 # electron is lost.\n",
    "                    \n",
    "        # gain   \n",
    "        elseif p[n][site]==0 # electron is not there.\n",
    "            q=collect(p[n])\n",
    "            q[site]=1 # electron is gained.\n",
    "            \n",
    "        end  \n",
    "        \n",
    "        phase2=1\n",
    "        if site<6*Nx*Ny_max+1\n",
    "            phase2=(-1)^(sum(p[n][site:6*Nx*Ny_max+1]))\n",
    "        end\n",
    "            \n",
    "            \n",
    "        for n1=1:2^(6*Nx*Ny_max+1)\n",
    "            if collect(p[n1])==q\n",
    "                H[n,n1]+=t_b4*phase2\n",
    "            end\n",
    "        end\n",
    "    end    \n",
    "end     "
   ]
  },
  {
   "cell_type": "code",
   "execution_count": 111,
   "id": "d7c90464",
   "metadata": {},
   "outputs": [],
   "source": [
    "H;"
   ]
  }
 ],
 "metadata": {
  "kernelspec": {
   "display_name": "Julia 1.8.1",
   "language": "julia",
   "name": "julia-1.8"
  },
  "language_info": {
   "file_extension": ".jl",
   "mimetype": "application/julia",
   "name": "julia",
   "version": "1.8.1"
  }
 },
 "nbformat": 4,
 "nbformat_minor": 5
}
