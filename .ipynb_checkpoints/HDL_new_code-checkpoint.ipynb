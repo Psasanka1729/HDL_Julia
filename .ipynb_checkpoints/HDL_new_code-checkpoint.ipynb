{
 "cells": [
  {
   "cell_type": "markdown",
   "id": "389e3738",
   "metadata": {},
   "source": [
    "# Hydrogen depassivation lithography"
   ]
  },
  {
   "cell_type": "code",
   "execution_count": 27,
   "id": "c35eeb7e-7c4d-41ec-a191-3f6af33278f5",
   "metadata": {},
   "outputs": [],
   "source": [
    "# Silicon hydrogen NN interaction. # a\n",
    "C_1 = 1;\n",
    "U_Si_H(x) = C_1/x;\n",
    "d_U_Si_H(x) = -C_1/x^2;\n",
    "\n",
    "# Hopping between silicon atom and the hydrogen atom. # b\n",
    "C_2 = 1;\n",
    "Xi = 1;\n",
    "t_Si_H(x) = C_2*exp(-x/Xi);\n",
    "d_t_Si_H(x) = (-C_2/Xi)*exp(-x/Xi);\n",
    "\n",
    "# Hopping between the STM tip and the hydrogen atom. # c\n",
    "C_3 = 1;\n",
    "x_0 = 1;\n",
    "t_STM_H(x) = C_3*exp(-(x_0-x)/Xi);\n",
    "d_t_STM_H(x) = (C_3/Xi)*exp(-(x_0-x)/Xi);"
   ]
  },
  {
   "cell_type": "code",
   "execution_count": 4,
   "id": "0105d5c9",
   "metadata": {},
   "outputs": [],
   "source": [
    "Nx = 1\n",
    "Ny_max = 2\n",
    "\n",
    "U11 = 1 # nearest neighbor potential in first layer\n",
    "U22 = 1 # nearest neighbor potential term in 2nd layer\n",
    "H_U_Si_H = 1 # nearest neighbor potential betweeen hydrogen and silicon atom\n",
    "\n",
    "t11 = 1 # nearest neighbor hopping in first layer\n",
    "t22 = 1 # nearest nighbor hopping in 2nd layer\n",
    "\n",
    "t_si = 1 # nearest neighor hopping between silicon and hydrogen atom\n",
    "t_b1 = 1 # loss/gain at boundary 1\n",
    "t_b2 = 1 # loss/gain at boundary 2\n",
    "t_b3 = 1 # loss/gain at boundary 3\n",
    "t_b4 = 1; # loss/gain at boundary 4\n",
    "t_stm = 1; # hopping between the STM tip and the hydrogen atom.\n",
    "\n",
    "# Mass of an electron.\n",
    "m_e = 9.11*10^(-31);"
   ]
  },
  {
   "cell_type": "code",
   "execution_count": 29,
   "id": "0d2fec69-1e8f-4673-9ebe-f6e54bd65875",
   "metadata": {},
   "outputs": [],
   "source": [
    "#= The following is the potential in which the hydrogen experiences from\n",
    "the bulk and the surrounding silicon atoms. For now, we will approximate\n",
    "it as a harmonic potential. =#\n",
    "k = 1;\n",
    "# x_0 is defined above.\n",
    "V(x) = 0.5*k*(x-x_0/2)^2;"
   ]
  },
  {
   "cell_type": "code",
   "execution_count": 5,
   "id": "70f6109b-f0b9-43f0-9411-7058b4e5b214",
   "metadata": {},
   "outputs": [],
   "source": [
    "#=\n",
    "In the following lines, specify the position\n",
    "of the silicon atom and the hydrogen atom in the lattice that we are interested in.\n",
    "=#\n",
    "\n",
    "Si_position = 6;\n",
    "H_position = 13;"
   ]
  },
  {
   "cell_type": "code",
   "execution_count": 6,
   "id": "2847a3c4",
   "metadata": {},
   "outputs": [],
   "source": [
    "it=Iterators.product(ntuple(_ -> 0:1, 1+Nx*Ny_max*6)...);\n",
    "p=collect(it); # possible states with non conserving particle number"
   ]
  },
  {
   "cell_type": "code",
   "execution_count": 7,
   "id": "86953a17",
   "metadata": {},
   "outputs": [],
   "source": [
    "# Generating a matrix with zeros.\n",
    "H = zeros(2^(1+Nx*Ny_max*6),2^(1+Nx*Ny_max*6)); # 6 nearest neighbours.\n",
    "size(H);"
   ]
  },
  {
   "cell_type": "code",
   "execution_count": 33,
   "id": "980e98a7-64f8-41a3-8b8d-0fdcf1f7d0fa",
   "metadata": {},
   "outputs": [],
   "source": [
    "#= The derivative of the Hamiltonian with respect to x. =#\n",
    "dH_dx = zeros(2^(1+Nx*Ny_max*6),2^(1+Nx*Ny_max*6));"
   ]
  },
  {
   "cell_type": "code",
   "execution_count": 34,
   "id": "fa763e4d",
   "metadata": {},
   "outputs": [],
   "source": [
    "#= List of bonds for Nx = 1 and Ny = 2 for reference.=#\n",
    "bonds = [\n",
    "        # first layer.\n",
    "        [1,2],[2,3],[3,4],[7,8],[8,9],[9,10],\n",
    "        # second layer.\n",
    "        [5,6],[11,12],\n",
    "        # first to second layer.\n",
    "        [2,5],[4,6],[8,11],[10,12],\n",
    "        # second to third layer.\n",
    "        [8,5],[10,6]\n",
    "        ];"
   ]
  },
  {
   "cell_type": "markdown",
   "id": "75b82478",
   "metadata": {},
   "source": [
    "## Layers\n",
    "The following loops create arrays for nearest neighbors interactions\n",
    "and nearest neighbors potentials for layers one and two ."
   ]
  },
  {
   "cell_type": "code",
   "execution_count": 35,
   "id": "43bbf2cc",
   "metadata": {},
   "outputs": [
    {
     "data": {
      "text/plain": [
       "6-element Vector{Any}:\n",
       " [1, 2]\n",
       " [2, 3]\n",
       " [3, 4]\n",
       " [7, 8]\n",
       " [8, 9]\n",
       " [9, 10]"
      ]
     },
     "execution_count": 35,
     "metadata": {},
     "output_type": "execute_result"
    }
   ],
   "source": [
    "layer_1 = [];\n",
    "for Ny=1:Ny_max\n",
    "    for k=6*(Nx)*(Ny-1)+1:6*(Nx)*(Ny-1)+4*Nx-1\n",
    "        push!(layer_1,[k,k+1])\n",
    "    end\n",
    "end\n",
    "layer_1"
   ]
  },
  {
   "cell_type": "code",
   "execution_count": 36,
   "id": "43d410f7",
   "metadata": {},
   "outputs": [
    {
     "data": {
      "text/plain": [
       "2-element Vector{Any}:\n",
       " [5, 6]\n",
       " [11, 12]"
      ]
     },
     "execution_count": 36,
     "metadata": {},
     "output_type": "execute_result"
    }
   ],
   "source": [
    "layer_2 = [];\n",
    "for Ny=1:Ny_max\n",
    "    for k=6*Nx*(Ny-1)+4*Nx+1:2:6*Nx*(Ny-1)+4*Nx+2*Nx-1\n",
    "        push!(layer_2,[k,k+1])\n",
    "    end\n",
    "end\n",
    "layer_2"
   ]
  },
  {
   "cell_type": "code",
   "execution_count": 37,
   "id": "03325f6c",
   "metadata": {},
   "outputs": [
    {
     "data": {
      "text/plain": [
       "4-element Vector{Any}:\n",
       " [2, 5]\n",
       " [4, 6]\n",
       " [8, 11]\n",
       " [10, 12]"
      ]
     },
     "execution_count": 37,
     "metadata": {},
     "output_type": "execute_result"
    }
   ],
   "source": [
    "layer_1_2 = [];\n",
    "for Ny=1:Ny_max\n",
    "    for n=2:2:4*Nx\n",
    "        push!(layer_1_2,[Nx*6*(Ny-1)+n,Nx*6*(Ny-1)+4*Nx+Int(n/2)])\n",
    "    end\n",
    "end\n",
    "layer_1_2"
   ]
  },
  {
   "cell_type": "code",
   "execution_count": 38,
   "id": "5c0e467e",
   "metadata": {},
   "outputs": [
    {
     "data": {
      "text/plain": [
       "2-element Vector{Any}:\n",
       " [8, 5]\n",
       " [10, 6]"
      ]
     },
     "execution_count": 38,
     "metadata": {},
     "output_type": "execute_result"
    }
   ],
   "source": [
    "layer_2_3 = [];\n",
    "for Ny=2:Ny_max\n",
    "    for n1=2:2:4*Nx\n",
    "        push!(layer_2_3,[Nx*6*(Ny-1)+n1,Nx*6*(Ny-2)+4*Nx+Int(n1/2)])\n",
    "    end\n",
    "end\n",
    "layer_2_3"
   ]
  },
  {
   "cell_type": "code",
   "execution_count": 39,
   "id": "1ab99393",
   "metadata": {},
   "outputs": [],
   "source": [
    "#= The following concatenates all the ordered pairs. =#\n",
    "bonds = vcat(layer_1,layer_2,layer_1_2,layer_2_3);"
   ]
  },
  {
   "cell_type": "code",
   "execution_count": 40,
   "id": "e659b9b0",
   "metadata": {},
   "outputs": [
    {
     "data": {
      "text/plain": [
       "13"
      ]
     },
     "execution_count": 40,
     "metadata": {},
     "output_type": "execute_result"
    }
   ],
   "source": [
    "length(p[7])"
   ]
  },
  {
   "cell_type": "markdown",
   "id": "ce70cc6d",
   "metadata": {
    "tags": []
   },
   "source": [
    "## NN interaction and NN hopping between Silicon layers"
   ]
  },
  {
   "cell_type": "code",
   "execution_count": 41,
   "id": "3583a7bb",
   "metadata": {},
   "outputs": [],
   "source": [
    "# Imagine I'm given a list bonds = [[1,2],[2,3],etc]\n",
    "\n",
    "for n=1:2^(1+Nx*Ny_max*6) # Loop over basis states\n",
    "\n",
    "    for j=1:length(bonds)\n",
    "        \n",
    "        site1=bonds[j][1] # First number in the pair.\n",
    "        site2=bonds[j][2] # Second number in the pair.\n",
    "        \n",
    "        #=\n",
    "        Assuming NN interaction between any two layers are same (U11).\n",
    "        NN interaction term has no Hermitian conjugate.\n",
    "        If both p[n][site] and p[n][site2] are occupied, then\n",
    "        the potential U11 will be added to the Hamiltonian. \n",
    "        =#\n",
    "        \n",
    "        H[n,n] += U11 * p[n][site1] * p[n][site2] # NN Interaction term\n",
    "        \n",
    "        \n",
    "        #= NN hopping has Hermitian conjugate =#\n",
    "        if p[n][site1] == 1 && p[n][site2]==0 # NN hopping\n",
    "            q=collect(p[n]) # collect makes p[n] a vector.\n",
    "            q[site1]=0\n",
    "            q[site2]=1\n",
    "            \n",
    "            phase1=(-1)^(sum(p[n][site1:6*Nx*Ny_max+1]))\n",
    "            phase2=1\n",
    "            \n",
    "            if site2 < 6*Nx*Ny_max+1 \n",
    "                phase2=(-1)^(sum(p[n][site2:6*Nx*Ny_max+1]))\n",
    "            end\n",
    "            \n",
    "            for n1=1:2^(6*Nx*Ny_max+1)\n",
    "                if collect(p[n1]) == q\n",
    "                    H[n,n1]+=t22*phase1*phase2\n",
    "                    H[n1,n]+=t22*phase1*phase2 # hermitian conjugate\n",
    "                end\n",
    "            end\n",
    "        end\n",
    "    end\n",
    "end"
   ]
  },
  {
   "cell_type": "markdown",
   "id": "2b6328b2",
   "metadata": {
    "tags": []
   },
   "source": [
    "### Creating a list of the first and the second boundary"
   ]
  },
  {
   "cell_type": "code",
   "execution_count": 42,
   "id": "456e7399",
   "metadata": {},
   "outputs": [],
   "source": [
    "first_bd = [];\n",
    "second_bd = [];\n",
    "for Ny=1:Ny_max\n",
    "    if Ny == 1 # First boundary\n",
    "        \n",
    "        for k=6*(Nx)*(Ny-1)+1:6*(Nx)*(Ny-1)+4*Nx\n",
    "            push!(first_bd,k)\n",
    "        end\n",
    "        \n",
    "    elseif Ny == Ny_max # second boundary.\n",
    "        \n",
    "        for k=6*(Nx)*(Ny-1)+4*Nx+1:2:6*(Nx)*(Ny-1)+4*Nx+2*Nx-1\n",
    "            push!(second_bd,k)\n",
    "            push!(second_bd,k+1)\n",
    "        end   \n",
    "    end\n",
    "end\n",
    "first_bd;"
   ]
  },
  {
   "cell_type": "code",
   "execution_count": 43,
   "id": "5c92070c",
   "metadata": {},
   "outputs": [],
   "source": [
    "second_bd;"
   ]
  },
  {
   "cell_type": "markdown",
   "id": "90d4e542",
   "metadata": {
    "tags": []
   },
   "source": [
    "### Creating a list of the third and the fourth boundary"
   ]
  },
  {
   "cell_type": "code",
   "execution_count": 44,
   "id": "9fd16388",
   "metadata": {},
   "outputs": [],
   "source": [
    "third_bd = [];\n",
    "fourth_bd = [];\n",
    "for Ny=1:Ny_max\n",
    "    k=1+Nx*6*(Ny-1)\n",
    "    push!(third_bd,k)\n",
    "    k=4*Nx+Nx*6*(Ny-1)\n",
    "    push!(fourth_bd,k)\n",
    "    #println(k)  \n",
    "end\n",
    "third_bd;"
   ]
  },
  {
   "cell_type": "code",
   "execution_count": 45,
   "id": "90a8037b",
   "metadata": {},
   "outputs": [],
   "source": [
    "fourth_bd;"
   ]
  },
  {
   "cell_type": "markdown",
   "id": "199bb1f9",
   "metadata": {
    "tags": []
   },
   "source": [
    "### Gain and loss of fermions at the four boundaries"
   ]
  },
  {
   "cell_type": "code",
   "execution_count": 46,
   "id": "8ec1906c",
   "metadata": {},
   "outputs": [],
   "source": [
    "for n=1:2^(Nx*Ny_max*6+1)\n",
    "    \n",
    "    # first boundary.\n",
    "    for j=1:length(first_bd)\n",
    "        \n",
    "        site=first_bd[j]\n",
    "    \n",
    "        # gain\n",
    "        if p[n][site]==1  # electron is there. # 1 if gain\n",
    "            q=collect(p[n])  \n",
    "            q[site]=0 # electron is lost. # 0 if gain 1 if loss\n",
    "\n",
    "        # loss    \n",
    "        elseif p[n][site] == 0 # electron is not there. # 0 if loss\n",
    "            q=collect(p[n])\n",
    "            q[site]=1 # electron is gained. # 0 if gain 1 if loss\n",
    "        end                \n",
    "          \n",
    "        #= The phase is calculated below. =#\n",
    "        #phase1=(-1)^(sum(p[n][k:Nx*Ny_max*6]))\n",
    "        phase2=1\n",
    "            \n",
    "        if site<Nx*Ny_max*6\n",
    "            phase2=(-1)^(sum(p[n][site:6*Nx*Ny_max+1]))\n",
    "        end\n",
    "            \n",
    "        for n1=1:2^(1+Nx*Ny_max*6)\n",
    "            if collect(p[n1])==q                \n",
    "                H[n,n1]+=t_b1*phase2\n",
    "            end\n",
    "        end                \n",
    "    end\n",
    "            \n",
    "    # second boundary.\n",
    "    for j=1:length(second_bd) \n",
    "        \n",
    "        site = second_bd[j]\n",
    "        \n",
    "        # loss\n",
    "        if p[n][site]==1 # electron is there.\n",
    "            q=collect(p[n])\n",
    "            q[site]=0 # electron is lost.\n",
    "                    \n",
    "        # gain   \n",
    "        elseif p[n][site]==0 # electron is not there.\n",
    "            q=collect(p[n])\n",
    "            q[site]=1 # electron is gained.\n",
    "            \n",
    "        end    \n",
    "        phase2=1\n",
    "        if site<6*Nx*Ny_max+1\n",
    "            phase2=(-1)^(sum(p[n][site:6*Nx*Ny_max+1]))\n",
    "        end\n",
    "            \n",
    "            \n",
    "        for n1=1:2^(6*Nx*Ny_max+1)\n",
    "            if collect(p[n1])==q\n",
    "                H[n,n1]+=t_b2*phase2\n",
    "            end\n",
    "        end\n",
    "    end\n",
    "    \n",
    "    # third boundary.\n",
    "    for j=1:length(third_bd) \n",
    "        \n",
    "        site = third_bd[j]\n",
    "        \n",
    "        # loss\n",
    "        if p[n][site]==1 # electron is there.\n",
    "            q=collect(p[n])\n",
    "            q[site]=0 # electron is lost.\n",
    "                    \n",
    "        # gain   \n",
    "        elseif p[n][site]==0 # electron is not there.\n",
    "            q=collect(p[n])\n",
    "            q[site]=1 # electron is gained.\n",
    "            \n",
    "        end  \n",
    "        \n",
    "        phase2=1\n",
    "        if site<6*Nx*Ny_max+1\n",
    "            phase2=(-1)^(sum(p[n][site:6*Nx*Ny_max+1]))\n",
    "        end\n",
    "            \n",
    "            \n",
    "        for n1=1:2^(6*Nx*Ny_max+1)\n",
    "            if collect(p[n1])==q\n",
    "                H[n,n1]+=t_b3*phase2\n",
    "            end\n",
    "        end\n",
    "    end\n",
    "    \n",
    "    # fourth boundary.\n",
    "    for j=1:length(fourth_bd) \n",
    "        \n",
    "        site = fourth_bd[j]\n",
    "        \n",
    "        # loss\n",
    "        if p[n][site]==1 # electron is there.\n",
    "            q=collect(p[n])\n",
    "            q[site]=0 # electron is lost.\n",
    "                    \n",
    "        # gain   \n",
    "        elseif p[n][site]==0 # electron is not there.\n",
    "            q=collect(p[n])\n",
    "            q[site]=1 # electron is gained.\n",
    "            \n",
    "        end  \n",
    "        \n",
    "        phase2=1\n",
    "        if site<6*Nx*Ny_max+1\n",
    "            phase2=(-1)^(sum(p[n][site:6*Nx*Ny_max+1]))\n",
    "        end\n",
    "            \n",
    "            \n",
    "        for n1=1:2^(6*Nx*Ny_max+1)\n",
    "            if collect(p[n1])==q\n",
    "                H[n,n1]+=t_b4*phase2\n",
    "            end\n",
    "        end\n",
    "    end    \n",
    "end     "
   ]
  },
  {
   "cell_type": "markdown",
   "id": "49b1c6e4",
   "metadata": {
    "tags": []
   },
   "source": [
    "## Nearest neighbour hopping between the silicon and hydrogen atom"
   ]
  },
  {
   "cell_type": "code",
   "execution_count": 47,
   "id": "d43df12e",
   "metadata": {},
   "outputs": [
    {
     "ename": "LoadError",
     "evalue": "MethodError: no method matching *(::Float64, ::String)\n\u001b[0mClosest candidates are:\n\u001b[0m  *(::Any, ::Any, \u001b[91m::Any\u001b[39m, \u001b[91m::Any...\u001b[39m) at operators.jl:591\n\u001b[0m  *(::T, \u001b[91m::T\u001b[39m) where T<:Union{Float16, Float32, Float64} at float.jl:385\n\u001b[0m  *(\u001b[91m::Union{AbstractChar, AbstractString}\u001b[39m, ::Union{AbstractChar, AbstractString}...) at strings/basic.jl:260\n\u001b[0m  ...",
     "output_type": "error",
     "traceback": [
      "MethodError: no method matching *(::Float64, ::String)\n\u001b[0mClosest candidates are:\n\u001b[0m  *(::Any, ::Any, \u001b[91m::Any\u001b[39m, \u001b[91m::Any...\u001b[39m) at operators.jl:591\n\u001b[0m  *(::T, \u001b[91m::T\u001b[39m) where T<:Union{Float16, Float32, Float64} at float.jl:385\n\u001b[0m  *(\u001b[91m::Union{AbstractChar, AbstractString}\u001b[39m, ::Union{AbstractChar, AbstractString}...) at strings/basic.jl:260\n\u001b[0m  ...",
      "",
      "Stacktrace:",
      " [1] top-level scope",
      "   @ ./In[47]:43",
      " [2] eval",
      "   @ ./boot.jl:368 [inlined]",
      " [3] include_string(mapexpr::typeof(REPL.softscope), mod::Module, code::String, filename::String)",
      "   @ Base ./loading.jl:1428"
     ]
    }
   ],
   "source": [
    "#=\n",
    "The position of the silicon and the hydrogen attached to it is\n",
    "specified at the top.\n",
    "=#\n",
    "\n",
    "for n = 1:2^(1+Nx*Ny_max*6) # Iterating over all basis states.\n",
    "    \n",
    "    #=  \n",
    "    \n",
    "    p[n][Si_position] = 1 means there is an electron in the Si atom.\n",
    "    p[n][H_position] = 0 means there is no electron in the H atom.\n",
    "    \n",
    "    =#\n",
    "    if p[n][H_position]==1 && p[n][Si_position]==0\n",
    "        \n",
    "        #println([n,H_position],[n,Si_position])\n",
    "        \n",
    "        q=p[n]\n",
    "        q=collect(p[n])\n",
    "        \n",
    "        q[H_position]=0 # The electron in the Si is lost.\n",
    "        q[Si_position]=1 # An electron in the H is gained.\n",
    "        \n",
    "        phase1=(-1)^(sum(p[n][H_position:1+Nx*Ny_max*6]))\n",
    "        phase2=1\n",
    "        \n",
    "        if H_position < Nx*Ny_max*6\n",
    "            \n",
    "            phase2=(-1)^(sum(p[n][Si_position:6*Nx*Ny_max+1]))\n",
    "            \n",
    "        end\n",
    "        \n",
    "        for n1=1:2^(Nx*Ny_max*6)\n",
    "            \n",
    "            if collect(p[n1])==q\n",
    "                # The Hamiltonian.\n",
    "                H[n,n1] += t_si*phase1*phase2\n",
    "                H[n1,n] += t_si*phase1*phase2\n",
    "                \n",
    "                # Derivative of the Hamiltonian.\n",
    "                #dH_dx[n,n1] += d_t_Si_H(x)*phase1*phase2\n",
    "                #dH_dx[n1,n] += d_t_Si_H(x)*phase1*phase2\n",
    "                #dH_dx[n,n1] *=  \"b\"\n",
    "                #dH_dx[n,n1] *=  \"b\"\n",
    "            end\n",
    "            \n",
    "        end\n",
    "    end    \n",
    "end"
   ]
  },
  {
   "cell_type": "markdown",
   "id": "d477728a-6241-49f3-a36c-f268f83e4c75",
   "metadata": {},
   "source": [
    "## NN interaction between the Silicon atom and the Hydrogen atom"
   ]
  },
  {
   "cell_type": "code",
   "execution_count": 48,
   "id": "ebe68887-94a4-489e-9e0e-68c282bc8317",
   "metadata": {},
   "outputs": [
    {
     "ename": "LoadError",
     "evalue": "UndefVarError: dH not defined",
     "output_type": "error",
     "traceback": [
      "UndefVarError: dH not defined",
      "",
      "Stacktrace:",
      " [1] top-level scope",
      "   @ ./In[48]:17",
      " [2] eval",
      "   @ ./boot.jl:368 [inlined]",
      " [3] include_string(mapexpr::typeof(REPL.softscope), mod::Module, code::String, filename::String)",
      "   @ Base ./loading.jl:1428"
     ]
    }
   ],
   "source": [
    "#=\n",
    "The position of the silicon and the hydrogen attached to it is\n",
    "specified at the top.\n",
    "=#\n",
    "\n",
    "for n = 1:2^(1+Nx*Ny_max*6) # Iterating over all basis states.\n",
    "    \n",
    "    #=  \n",
    "    \n",
    "    p[n][Si_position] = 1 means there is an electron in the Si atom.\n",
    "    p[n][H_position] = 0 means there is no electron in the H atom.\n",
    "    \n",
    "    =#\n",
    "    if p[n][H_position]==1 && p[n][Si_position]==1\n",
    "        \n",
    "        H[n,n] += H_U_Si_H\n",
    "        #dH[n,n] *= \"a\"\n",
    "    end    \n",
    "end"
   ]
  },
  {
   "cell_type": "markdown",
   "id": "c42ce81f",
   "metadata": {},
   "source": [
    "### Electron loss and gain with the STM tip"
   ]
  },
  {
   "cell_type": "code",
   "execution_count": 49,
   "id": "63cb7d7b",
   "metadata": {},
   "outputs": [
    {
     "ename": "LoadError",
     "evalue": "MethodError: no method matching *(::Float64, ::String)\n\u001b[0mClosest candidates are:\n\u001b[0m  *(::Any, ::Any, \u001b[91m::Any\u001b[39m, \u001b[91m::Any...\u001b[39m) at operators.jl:591\n\u001b[0m  *(::T, \u001b[91m::T\u001b[39m) where T<:Union{Float16, Float32, Float64} at float.jl:385\n\u001b[0m  *(\u001b[91m::Union{AbstractChar, AbstractString}\u001b[39m, ::Union{AbstractChar, AbstractString}...) at strings/basic.jl:260\n\u001b[0m  ...",
     "output_type": "error",
     "traceback": [
      "MethodError: no method matching *(::Float64, ::String)\n\u001b[0mClosest candidates are:\n\u001b[0m  *(::Any, ::Any, \u001b[91m::Any\u001b[39m, \u001b[91m::Any...\u001b[39m) at operators.jl:591\n\u001b[0m  *(::T, \u001b[91m::T\u001b[39m) where T<:Union{Float16, Float32, Float64} at float.jl:385\n\u001b[0m  *(\u001b[91m::Union{AbstractChar, AbstractString}\u001b[39m, ::Union{AbstractChar, AbstractString}...) at strings/basic.jl:260\n\u001b[0m  ...",
      "",
      "Stacktrace:",
      " [1] top-level scope",
      "   @ ./In[49]:28",
      " [2] eval",
      "   @ ./boot.jl:368 [inlined]",
      " [3] include_string(mapexpr::typeof(REPL.softscope), mod::Module, code::String, filename::String)",
      "   @ Base ./loading.jl:1428"
     ]
    }
   ],
   "source": [
    "#=\n",
    "Exchange of electrons between the STM tip and the hydrogen atom.\n",
    "This is a non-Hermitian term in the Hamiltonian. The position of\n",
    "the hydrogen is specified at the top.\n",
    "=#\n",
    "\n",
    "\n",
    "for n = 1:2^(1+Nx*Ny_max*6) # Iterating over all basis states.\n",
    "    \n",
    "    # gain\n",
    "    if p[n][H_position]==1  # electron is there.\n",
    "        \n",
    "        q=collect(p[n])  \n",
    "        q[H_position]=0 # electron is lost.\n",
    "\n",
    "    # loss    \n",
    "    elseif p[n][H_position] == 0 # electron is not there.\n",
    "        \n",
    "        q=collect(p[n])\n",
    "        q[H_position]=1 # electron is gained.\n",
    "        \n",
    "    end  \n",
    "        \n",
    "    for n1=1:2^(Nx*Ny_max*6)\n",
    "            \n",
    "        if collect(p[n1])==q\n",
    "            H[n,n1] += t_stm\n",
    "            #dH_dx[n,n1] *= \"c\"\n",
    "        end\n",
    "    \n",
    "    end\n",
    "    \n",
    "end    "
   ]
  },
  {
   "cell_type": "code",
   "execution_count": 50,
   "id": "d7c90464",
   "metadata": {},
   "outputs": [],
   "source": [
    "H;"
   ]
  },
  {
   "cell_type": "code",
   "execution_count": 51,
   "id": "18de3b0c-2313-4d7d-aeef-a56c6d1d0b19",
   "metadata": {},
   "outputs": [],
   "source": [
    "H_tot(x) = H(x)+V(x)+p^2/(2*m_e);"
   ]
  },
  {
   "cell_type": "markdown",
   "id": "93846a58-c732-4f3a-86cd-b60fdda79e67",
   "metadata": {
    "tags": []
   },
   "source": [
    "### Poisson brackets of x and p with H_tot(x)"
   ]
  },
  {
   "cell_type": "markdown",
   "id": "ace85254-9208-4310-a1eb-d06009185848",
   "metadata": {},
   "source": [
    "#### Equation of motion of x"
   ]
  },
  {
   "cell_type": "code",
   "execution_count": 52,
   "id": "52e7dc57-fd69-40a1-8f00-f6981b9825bc",
   "metadata": {},
   "outputs": [
    {
     "data": {
      "text/plain": [
       "Poission_bracket (generic function with 1 method)"
      ]
     },
     "execution_count": 52,
     "metadata": {},
     "output_type": "execute_result"
    }
   ],
   "source": [
    "function Poission_bracket(A,B)\n",
    "   #= {A,B} = dA/dx dB/dp - dA/dp dB/dp. =#\n",
    "end"
   ]
  },
  {
   "cell_type": "markdown",
   "id": "e302faa3-8b8a-4e08-b29b-45a7057bdf13",
   "metadata": {},
   "source": [
    "## Construction of derivative of the Hamiltonian"
   ]
  },
  {
   "cell_type": "code",
   "execution_count": 10,
   "id": "45837e67-d24d-4d51-83c3-73108e97668d",
   "metadata": {},
   "outputs": [],
   "source": [
    "function dH_dx(x)\n",
    "    \n",
    "    #=  \n",
    "    p[n][Si_position] = 1 means there is an electron in the Si atom.\n",
    "    p[n][H_position] = 0 means there is no electron in the H atom.\n",
    "    The position of the silicon and the hydrogen attached to it is specified at the top.\n",
    "    \n",
    "    \n",
    "    =#  \n",
    "    #= NN interaction between Silicon atom and hydrogen atom.   \n",
    "    =#\n",
    "    NNI_Si_H = []\n",
    "    for n = 1:2^(1+Nx*Ny_max*6) # Iterating over all basis states.\n",
    "        if p[n][H_position] == 1 && p[n][Si_position] == 1\n",
    "            push!(NN_Si_H,[[n,n],1])\n",
    "        end    \n",
    "    end    \n",
    "\n",
    "    \n",
    "    #= NN Hopping between silicon atom and the hydrogen atom. =#\n",
    "    NNH_Si_H = []\n",
    "    for n = 1:2^(1+Nx*Ny_max*6) # Iterating over all basis states.\n",
    "        if p[n][H_position] == 1 && p[n][Si_position] == 0\n",
    "            \n",
    "            q = p[n]\n",
    "            q = collect(p[n])\n",
    "        \n",
    "            q[H_position] = 0 # The electron in the Si is lost.\n",
    "            q[Si_position] = 1 # An electron in the H is gained.\n",
    "        \n",
    "            phase1 = (-1)^(sum(p[n][H_position:1+Nx*Ny_max*6]))\n",
    "            phase2 = 1\n",
    "            \n",
    "            if H_position < Nx*Ny_max*6            \n",
    "                phase2 = (-1)^(sum(p[n][Si_position:6*Nx*Ny_max+1]))\n",
    "            end\n",
    "        \n",
    "            for n1 = 1:2^(Nx*Ny_max*6)\n",
    "                if collect(p[n1]) == q\n",
    "                    push!(NNH_Si_H,[[n,n1],phase1,phase2])\n",
    "                    \n",
    "                    #H[n,n1] += t_si*phase1*phase2\n",
    "                    #H[n1,n] += t_si*phase1*phase2       \n",
    "                end\n",
    "            \n",
    "            end\n",
    "        end    \n",
    "    end    \n",
    "    \n",
    "end;"
   ]
  },
  {
   "cell_type": "code",
   "execution_count": null,
   "id": "ef70f437-f779-415f-a90f-dbc2d0727c0c",
   "metadata": {},
   "outputs": [],
   "source": []
  }
 ],
 "metadata": {
  "kernelspec": {
   "display_name": "Julia 1.8.1",
   "language": "julia",
   "name": "julia-1.8"
  },
  "language_info": {
   "file_extension": ".jl",
   "mimetype": "application/julia",
   "name": "julia",
   "version": "1.8.1"
  }
 },
 "nbformat": 4,
 "nbformat_minor": 5
}
